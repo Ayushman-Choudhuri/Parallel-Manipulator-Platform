{
 "cells": [
  {
   "cell_type": "markdown",
   "metadata": {},
   "source": [
    "<h1>CIRCLE PARALLEL MANIPULATOR INVERSE KINEMATICS<h1>\n",
    "<h2>INTRODUCTION:<h2> "
   ]
  },
  {
   "cell_type": "markdown",
   "metadata": {},
   "source": [
    "<h4>Import Packages :<h4>\n"
   ]
  },
  {
   "cell_type": "code",
   "execution_count": 17,
   "metadata": {},
   "outputs": [],
   "source": [
    "import numpy as np"
   ]
  },
  {
   "cell_type": "markdown",
   "metadata": {},
   "source": [
    "<h4> Robot Parameters <h4>"
   ]
  },
  {
   "cell_type": "code",
   "execution_count": 124,
   "metadata": {},
   "outputs": [],
   "source": [
    "EndEffectorCoordinates = np.array([[-73.7,19.46,0],\n",
    "                          [-53.7,54.1,0],\n",
    "                          [53.7,54.1,0],\n",
    "                          [73.7,19.46,0],\n",
    "                          [20,-73.55,0],\n",
    "                          [-20,-73.55,0]])\n",
    "\n",
    "BaseCoordinates =  np.array([[-81.63, 0.36, 0],\n",
    "                        [-41.13 , 70.51, 0],\n",
    "                        [41.13, 70.51 ,0],\n",
    "                        [81.63, 0.36, 0],\n",
    "                        [40.5 ,-70.87 ,0],\n",
    "                        [-81.63, -70.87, 0]])\n",
    "    \n",
    "MotorPlaneAngles = [2.094 , - 2.094 , 5.23, - 5.23, 0, -3.14]; \n",
    "\n",
    "MOTOR_COUPLER_LENGTH = 33.81\n",
    "SS_LINK_LENGTH=146\n",
    "HOME_POSITION_Z_OFFSET =130.64"
   ]
  },
  {
   "cell_type": "code",
   "execution_count": 111,
   "metadata": {},
   "outputs": [],
   "source": [
    "def UpdateTranslationVector(delx, dely, delz):\n",
    "    \n",
    "    TranslationVector = np.array([[delx], [dely], [delz + HOME_POSITION_Z_OFFSET]]);\n",
    "    \n",
    "    #print(\"Shape of Translation Vector:\" + str(TranslationVector.shape))\n",
    "    return TranslationVector"
   ]
  },
  {
   "cell_type": "code",
   "execution_count": 118,
   "metadata": {},
   "outputs": [],
   "source": [
    "def UpdateRotationMatrix(Yaw,Pitch,Roll):\n",
    "    Y = 0.0174*Yaw\n",
    "    P = 0.0174*Pitch\n",
    "    R = 0.0174*Roll\n",
    "    RotationMatrix = np.zeros((3,3))\n",
    "    \n",
    "    RotationMatrix[0][0] = np.cos(Y)*np.cos(P)\n",
    "    RotationMatrix[0][1] = -(np.sin(Y)*np.cos(R))+(np.cos(Y)*np.sin(P)*np.sin(R))\n",
    "    RotationMatrix[0][2] = (np.sin(Y)*np.sin(R)) + (np.cos(Y)*np.sin(P)*np.cos(R))\n",
    "    RotationMatrix[1][0] = np.sin(Y)*np.cos(P)\n",
    "    RotationMatrix[1][1] = (np.cos(Y)*np.cos(R))+(np.sin(Y)*np.sin(P)*np.sin(R))\n",
    "    RotationMatrix[1][2] = (-np.cos(Y)*np.sin(R))+(np.sin(Y)*np.sin(P)*np.cos(R))\n",
    "    RotationMatrix[2][0] = -np.sin(P)\n",
    "    RotationMatrix[2][1] = np.cos(P)*np.sin(R)\n",
    "    RotationMatrix[2][2] = np.cos(P)*np.cos(R)\n",
    "    \n",
    "    #print(\"Shape of Rotation Matrix:\" + str(RotationMatrix.shape))\n",
    "    return RotationMatrix;\n",
    "    "
   ]
  },
  {
   "cell_type": "code",
   "execution_count": 214,
   "metadata": {},
   "outputs": [],
   "source": [
    "def EndEffectorCoordinateTransform(RotationMatrix, TranslationVector):\n",
    "    ETransform = TranslationVector + np.dot(RotationMatrix,EndEffectorCoordinates.T)\n",
    "    \n",
    "    print(ETransform)\n",
    "    #print(\"Shape of ETransform:\" + str(ETransform.shape))\n",
    "    return ETransform"
   ]
  },
  {
   "cell_type": "code",
   "execution_count": 168,
   "metadata": {},
   "outputs": [],
   "source": [
    "def UpdateEffectiveLinkLengths (RotationMatrix,EndEffectorCoordinates,BaseCoordinates,TranslationVector):\n",
    "    temp = np.dot(RotationMatrix,EndEffectorCoordinates.T)\n",
    "    LinkVectors = TranslationVector + np.subtract(temp,BaseCoordinates.T)\n",
    "   \n",
    "    LinkVectorsSquared = np.multiply(LinkVectors,LinkVectors);\n",
    "    LinkVectorSquaredSum = np.sum(LinkVectorsSquared, axis = 0, keepdims = True)\n",
    "    EffectiveLinkLengths = np.sqrt(LinkVectorSquaredSum);\n",
    "    \n",
    "    #print(\"Shape of LinkVectors:\" + str(LinkVectors.shape));\n",
    "    #print(\"Shape of EffectiveLinkLengths:\" + str(EffectiveLinkLengths.shape));\n",
    "    #print(\"Shape of LinkVectorsSquared:\" + str(LinkVectorsSquared.shape));\n",
    "    #print(\"Shape of LinkVectorSquaredSum: \"+ str(LinkVectorSquaredSum.shape));\n",
    "    #print(EffectiveLinkLengths);\n",
    "    return EffectiveLinkLengths"
   ]
  },
  {
   "cell_type": "code",
   "execution_count": 212,
   "metadata": {},
   "outputs": [],
   "source": [
    "def UpdateMotorAngles(ETransform,EffectiveLinkLengths):\n",
    "    \n",
    "    diffx =  np.subtract(ETransform[0,:], BaseCoordinates[0,:])\n",
    "    diffy = np.subtract(ETransform[1,:],BaseCoordinates[1,:])\n",
    "    diffz =  np.subtract(ETransform[2,:], BaseCoordinates[2,:])\n",
    "    tempM = np.multiply((2*MOTOR_COUPLER_LENGTH),diffz).reshape(1,6)\n",
    "    tempL = np.square(EffectiveLinkLengths)-(np.square(SS_LINK_LENGTH)-np.square(MOTOR_COUPLER_LENGTH)) \n",
    "    temp = np.add(np.multiply(np.cos(MotorPlaneAngles),diffx), np.multiply(np.sin(MotorPlaneAngles), diffy))\n",
    "    tempN = np.multiply((2*MOTOR_COUPLER_LENGTH),temp).reshape(1,6)\n",
    "    \n",
    "    tempsqrt = np.sqrt(np.add(np.square(tempM),np.square(tempN)))\n",
    "    tempdiv = np.divide(tempL,tempsqrt)\n",
    "    \n",
    "    #print(\"diffx = \" + str(diffx))\n",
    "    #print(\"diffy = \" + str(diffy))\n",
    "    #print(\"diffz = \" + str(diffz))\n",
    "   # print(tempL.shape)\n",
    "   # print(tempM.shape)\n",
    "    #print(tempN.shape)\n",
    "    #print(tempdiv.shape)\n",
    "    print(tempdiv)\n",
    "    return 0"
   ]
  },
  {
   "cell_type": "code",
   "execution_count": 215,
   "metadata": {},
   "outputs": [
    {
     "name": "stdout",
     "output_type": "stream",
     "text": [
      "[[-39.59401406 -32.07298355  48.62558286  71.15988434  50.96626416\n",
      "   20.91093216]\n",
      " [  5.1802995   44.14655068  90.56602301  68.88821591 -35.73756904\n",
      "  -53.02601312]\n",
      " [175.79873742 180.79823436 127.24700685 102.30291866  88.87857784\n",
      "  108.82316909]]\n"
     ]
    }
   ],
   "source": [
    "#Test\n",
    "delx = 20 \n",
    "dely = 20 \n",
    "delz = 0\n",
    "Yaw = 30  \n",
    "Pitch = 30  \n",
    "Roll = 30\n",
    "\n",
    "TranslationVector = UpdateTranslationVector(delx, dely, delz)\n",
    "RotationMatrix = UpdateRotationMatrix(Yaw, Pitch, Roll)\n",
    "EffectiveLinkLengths = UpdateEffectiveLinkLengths(RotationMatrix,EndEffectorCoordinates,BaseCoordinates,TranslationVector)\n",
    "ETransform = EndEffectorCoordinateTransform(RotationMatrix, TranslationVector)\n",
    "\n",
    "#print(EffectiveLinkLengths)"
   ]
  },
  {
   "cell_type": "code",
   "execution_count": null,
   "metadata": {},
   "outputs": [],
   "source": []
  },
  {
   "cell_type": "code",
   "execution_count": null,
   "metadata": {},
   "outputs": [],
   "source": []
  }
 ],
 "metadata": {
  "kernelspec": {
   "display_name": "Python 3",
   "language": "python",
   "name": "python3"
  },
  "language_info": {
   "codemirror_mode": {
    "name": "ipython",
    "version": 3
   },
   "file_extension": ".py",
   "mimetype": "text/x-python",
   "name": "python",
   "nbconvert_exporter": "python",
   "pygments_lexer": "ipython3",
   "version": "3.7.4"
  }
 },
 "nbformat": 4,
 "nbformat_minor": 2
}
